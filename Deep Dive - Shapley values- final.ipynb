{
 "cells": [
  {
   "cell_type": "markdown",
   "id": "922351f3",
   "metadata": {},
   "source": [
    "## Explaining SHAP"
   ]
  },
  {
   "cell_type": "markdown",
   "id": "78f656d3",
   "metadata": {},
   "source": [
    "#### Importing Libraries"
   ]
  },
  {
   "cell_type": "code",
   "execution_count": 1,
   "id": "903d6c9f",
   "metadata": {},
   "outputs": [],
   "source": [
    "import pandas as pd\n",
    "import numpy as np\n",
    "import matplotlib.pyplot as plt\n",
    "import warnings\n",
    "warnings.filterwarnings(\"ignore\")\n",
    "import seaborn as sns"
   ]
  },
  {
   "cell_type": "code",
   "execution_count": 2,
   "id": "b6cb5139",
   "metadata": {},
   "outputs": [],
   "source": [
    "from sklearn.model_selection import train_test_split\n",
    "from sklearn import preprocessing\n",
    "from sklearn.ensemble import RandomForestRegressor\n",
    "from sklearn.linear_model import LinearRegression\n",
    "import statsmodels.api as sm\n",
    "from sklearn.metrics import mean_absolute_error,mean_absolute_percentage_error\n",
    "from sklearn.preprocessing import StandardScaler"
   ]
  },
  {
   "cell_type": "code",
   "execution_count": 3,
   "id": "36d535c1",
   "metadata": {},
   "outputs": [],
   "source": [
    "import shap"
   ]
  },
  {
   "cell_type": "code",
   "execution_count": 4,
   "id": "985941b5",
   "metadata": {},
   "outputs": [],
   "source": [
    "from sklearn import datasets"
   ]
  },
  {
   "cell_type": "markdown",
   "id": "870289f5",
   "metadata": {},
   "source": [
    "#### Importing python dataset and assigning variable names"
   ]
  },
  {
   "cell_type": "code",
   "execution_count": 5,
   "id": "723aa597",
   "metadata": {},
   "outputs": [
    {
     "data": {
      "text/html": [
       "<div>\n",
       "<style scoped>\n",
       "    .dataframe tbody tr th:only-of-type {\n",
       "        vertical-align: middle;\n",
       "    }\n",
       "\n",
       "    .dataframe tbody tr th {\n",
       "        vertical-align: top;\n",
       "    }\n",
       "\n",
       "    .dataframe thead th {\n",
       "        text-align: right;\n",
       "    }\n",
       "</style>\n",
       "<table border=\"1\" class=\"dataframe\">\n",
       "  <thead>\n",
       "    <tr style=\"text-align: right;\">\n",
       "      <th></th>\n",
       "      <th>0</th>\n",
       "      <th>1</th>\n",
       "      <th>2</th>\n",
       "      <th>3</th>\n",
       "      <th>4</th>\n",
       "      <th>5</th>\n",
       "      <th>6</th>\n",
       "      <th>7</th>\n",
       "      <th>8</th>\n",
       "      <th>9</th>\n",
       "      <th>10</th>\n",
       "      <th>11</th>\n",
       "      <th>12</th>\n",
       "    </tr>\n",
       "  </thead>\n",
       "  <tbody>\n",
       "    <tr>\n",
       "      <th>0</th>\n",
       "      <td>14.23</td>\n",
       "      <td>1.71</td>\n",
       "      <td>2.43</td>\n",
       "      <td>15.6</td>\n",
       "      <td>127.0</td>\n",
       "      <td>2.80</td>\n",
       "      <td>3.06</td>\n",
       "      <td>0.28</td>\n",
       "      <td>2.29</td>\n",
       "      <td>5.64</td>\n",
       "      <td>1.04</td>\n",
       "      <td>3.92</td>\n",
       "      <td>1065.0</td>\n",
       "    </tr>\n",
       "    <tr>\n",
       "      <th>1</th>\n",
       "      <td>13.20</td>\n",
       "      <td>1.78</td>\n",
       "      <td>2.14</td>\n",
       "      <td>11.2</td>\n",
       "      <td>100.0</td>\n",
       "      <td>2.65</td>\n",
       "      <td>2.76</td>\n",
       "      <td>0.26</td>\n",
       "      <td>1.28</td>\n",
       "      <td>4.38</td>\n",
       "      <td>1.05</td>\n",
       "      <td>3.40</td>\n",
       "      <td>1050.0</td>\n",
       "    </tr>\n",
       "    <tr>\n",
       "      <th>2</th>\n",
       "      <td>13.16</td>\n",
       "      <td>2.36</td>\n",
       "      <td>2.67</td>\n",
       "      <td>18.6</td>\n",
       "      <td>101.0</td>\n",
       "      <td>2.80</td>\n",
       "      <td>3.24</td>\n",
       "      <td>0.30</td>\n",
       "      <td>2.81</td>\n",
       "      <td>5.68</td>\n",
       "      <td>1.03</td>\n",
       "      <td>3.17</td>\n",
       "      <td>1185.0</td>\n",
       "    </tr>\n",
       "    <tr>\n",
       "      <th>3</th>\n",
       "      <td>14.37</td>\n",
       "      <td>1.95</td>\n",
       "      <td>2.50</td>\n",
       "      <td>16.8</td>\n",
       "      <td>113.0</td>\n",
       "      <td>3.85</td>\n",
       "      <td>3.49</td>\n",
       "      <td>0.24</td>\n",
       "      <td>2.18</td>\n",
       "      <td>7.80</td>\n",
       "      <td>0.86</td>\n",
       "      <td>3.45</td>\n",
       "      <td>1480.0</td>\n",
       "    </tr>\n",
       "    <tr>\n",
       "      <th>4</th>\n",
       "      <td>13.24</td>\n",
       "      <td>2.59</td>\n",
       "      <td>2.87</td>\n",
       "      <td>21.0</td>\n",
       "      <td>118.0</td>\n",
       "      <td>2.80</td>\n",
       "      <td>2.69</td>\n",
       "      <td>0.39</td>\n",
       "      <td>1.82</td>\n",
       "      <td>4.32</td>\n",
       "      <td>1.04</td>\n",
       "      <td>2.93</td>\n",
       "      <td>735.0</td>\n",
       "    </tr>\n",
       "  </tbody>\n",
       "</table>\n",
       "</div>"
      ],
      "text/plain": [
       "      0     1     2     3      4     5     6     7     8     9     10    11  \\\n",
       "0  14.23  1.71  2.43  15.6  127.0  2.80  3.06  0.28  2.29  5.64  1.04  3.92   \n",
       "1  13.20  1.78  2.14  11.2  100.0  2.65  2.76  0.26  1.28  4.38  1.05  3.40   \n",
       "2  13.16  2.36  2.67  18.6  101.0  2.80  3.24  0.30  2.81  5.68  1.03  3.17   \n",
       "3  14.37  1.95  2.50  16.8  113.0  3.85  3.49  0.24  2.18  7.80  0.86  3.45   \n",
       "4  13.24  2.59  2.87  21.0  118.0  2.80  2.69  0.39  1.82  4.32  1.04  2.93   \n",
       "\n",
       "       12  \n",
       "0  1065.0  \n",
       "1  1050.0  \n",
       "2  1185.0  \n",
       "3  1480.0  \n",
       "4   735.0  "
      ]
     },
     "execution_count": 5,
     "metadata": {},
     "output_type": "execute_result"
    }
   ],
   "source": [
    "df = pd.DataFrame(datasets.load_wine().data)\n",
    "df.head()"
   ]
  },
  {
   "cell_type": "code",
   "execution_count": 6,
   "id": "0dea479b",
   "metadata": {},
   "outputs": [],
   "source": [
    "df.columns = ['var1', 'var2', 'var3', 'var4', 'var5', 'var6', 'var7', 'var8', 'var9', 'var10', 'var11', 'var12','target']"
   ]
  },
  {
   "cell_type": "markdown",
   "id": "2f63dda7",
   "metadata": {},
   "source": [
    "#### Using Ensembling model to train and predict"
   ]
  },
  {
   "cell_type": "markdown",
   "id": "45fe8698",
   "metadata": {},
   "source": [
    "### Random forest"
   ]
  },
  {
   "cell_type": "code",
   "execution_count": 7,
   "id": "523e1eb2",
   "metadata": {},
   "outputs": [],
   "source": [
    "#X_train, X_test, y_train, y_test = train_test_split(X, y, test_size = 0.2,random_state=0)\n",
    "y = df['target']\n",
    "X = df[[\"var1\",\"var2\",\"var3\",\"var4\",\"var5\",\"var6\",\"var7\",\"var8\",\"var9\",\"var10\",\"var11\",\"var12\"]]"
   ]
  },
  {
   "cell_type": "code",
   "execution_count": 8,
   "id": "5e3f7648",
   "metadata": {},
   "outputs": [
    {
     "data": {
      "text/plain": [
       "RandomForestRegressor(max_depth=6, n_estimators=10, random_state=0)"
      ]
     },
     "execution_count": 8,
     "metadata": {},
     "output_type": "execute_result"
    }
   ],
   "source": [
    "# Build the model with the random forest regression\n",
    "model2 = RandomForestRegressor(max_depth=6, random_state=0, n_estimators=10)\n",
    "model2.fit(X, y)"
   ]
  },
  {
   "cell_type": "markdown",
   "id": "7366184a",
   "metadata": {},
   "source": [
    "* Prediction using original model"
   ]
  },
  {
   "cell_type": "code",
   "execution_count": 9,
   "id": "ca1e7223",
   "metadata": {},
   "outputs": [
    {
     "data": {
      "text/plain": [
       "array([ 999.06852869, 1021.43846395, 1185.18155345, 1292.42242647,\n",
       "        866.21111111, 1349.00238095, 1190.2530754 , 1224.64277882,\n",
       "       1163.52105263, 1120.38085901, 1317.07056244, 1190.72437533,\n",
       "       1115.33494152, 1210.98216374, 1483.78333333, 1319.12936508,\n",
       "       1248.76152882, 1232.21986216, 1485.1       , 1009.86925187,\n",
       "        870.40716374,  817.68872475, 1003.98817155,  858.12818381,\n",
       "        972.88194444,  864.30277778, 1110.12073474,  819.26850649,\n",
       "        906.61495726,  880.94698455, 1213.75597327, 1389.07383041,\n",
       "        996.2093254 , 1248.27541771, 1027.03045113, 1002.42081628,\n",
       "        953.39711779,  992.43693381,  913.83223684,  875.5218254 ,\n",
       "       1029.85585901,  909.64473684, 1109.26476469,  828.03333333,\n",
       "        943.95908425, 1083.9762903 ,  966.46697012,  992.21697012,\n",
       "       1207.21827485, 1213.5245098 , 1001.7977193 , 1181.44940275,\n",
       "       1192.3009979 , 1272.23375104, 1088.35386383, 1151.9025852 ,\n",
       "       1057.75863679, 1237.09883041, 1233.19404762,  519.59004202,\n",
       "        634.79235931,  540.29202667,  600.07261905,  439.94166667,\n",
       "        390.69984127,  696.00831349,  572.1       ,  480.91      ,\n",
       "        672.79166667,  788.54333333,  609.55497708,  510.05      ,\n",
       "        547.68611111,  925.86495726,  651.02207792,  542.94984594,\n",
       "        433.57619048,  554.16479925,  725.9082684 ,  558.12191697,\n",
       "        341.20293736,  607.45863095,  605.29720907,  525.14183007,\n",
       "        516.37912698,  403.12858449,  487.30662932,  574.3273678 ,\n",
       "        568.0334284 ,  590.63015024,  515.88509252,  489.67777778,\n",
       "        515.97162932,  340.29793736,  597.53482143,  942.9       ,\n",
       "        570.31469103,  423.6535348 ,  576.59363095,  493.1282967 ,\n",
       "        610.65618506,  546.11456583,  453.07842491,  503.05554707,\n",
       "        514.48128554,  388.60616246,  458.75      ,  483.89571895,\n",
       "        376.67802893,  687.33349206,  641.51904762,  356.82782136,\n",
       "        588.37071429,  463.83583639,  421.26059829,  404.36332556,\n",
       "        546.74152109,  420.07302893,  452.5535761 ,  558.02030897,\n",
       "        682.35479853,  695.73549837,  385.13572734,  382.2032967 ,\n",
       "        464.1232967 ,  394.90567766,  383.52380952,  431.07252388,\n",
       "        344.43841355,  569.77570113,  627.6114881 ,  597.81337535,\n",
       "        552.86139122,  585.27528011,  618.22170921,  648.50593254,\n",
       "        638.11468254,  614.02275486,  559.57222222,  595.84573466,\n",
       "        688.17301587,  648.3709596 ,  598.00429293,  581.8959596 ,\n",
       "        807.35618506,  787.84636364,  456.04444444,  567.63055556,\n",
       "        658.13484848,  584.45028011,  583.89047619,  500.15028011,\n",
       "        574.66813725,  704.38484848,  662.66817927,  721.18484848,\n",
       "        603.22954545,  696.1046176 ,  664.84621212,  610.12954545,\n",
       "        544.18660767,  612.66666667,  597.80028011,  635.1364881 ,\n",
       "        649.00151515,  531.63492063,  688.86666667,  591.01281979,\n",
       "        715.36136364,  671.16136364,  615.30595705,  501.58294118,\n",
       "        674.36287879,  655.12954545,  704.1       ,  818.61833333,\n",
       "        761.08333333,  632.25984848])"
      ]
     },
     "execution_count": 9,
     "metadata": {},
     "output_type": "execute_result"
    }
   ],
   "source": [
    "model2.predict(X)"
   ]
  },
  {
   "cell_type": "code",
   "execution_count": 10,
   "id": "f3c64da9",
   "metadata": {},
   "outputs": [
    {
     "data": {
      "text/plain": [
       "999.0685286935286"
      ]
     },
     "execution_count": 10,
     "metadata": {},
     "output_type": "execute_result"
    }
   ],
   "source": [
    "# OBSERVATION 1 prediction\n",
    "model2.predict(X)[0]"
   ]
  },
  {
   "cell_type": "code",
   "execution_count": 11,
   "id": "c1387c7b",
   "metadata": {},
   "outputs": [
    {
     "data": {
      "application/vnd.jupyter.widget-view+json": {
       "model_id": "59766c6b01764272a6f37d94efccf79c",
       "version_major": 2,
       "version_minor": 0
      },
      "text/plain": [
       "  0%|          | 0/178 [00:00<?, ?it/s]"
      ]
     },
     "metadata": {},
     "output_type": "display_data"
    }
   ],
   "source": [
    "# Using Kernel shap to approximate shapley values\n",
    "# shapley kernel is used to overcome the complexity of making numereous coalitions.\n",
    "\n",
    "masker = shap.maskers.Independent(X, 50)\n",
    "explainer = shap.KernelExplainer(model2.predict, masker.data)\n",
    "\n",
    "shap_values = explainer.shap_values(X)\n"
   ]
  },
  {
   "cell_type": "code",
   "execution_count": 12,
   "id": "1e14655d",
   "metadata": {},
   "outputs": [
    {
     "data": {
      "text/plain": [
       "711.5330736589262"
      ]
     },
     "execution_count": 12,
     "metadata": {},
     "output_type": "execute_result"
    }
   ],
   "source": [
    "# Null model prediction (Avg_prediction)\n",
    "explainer.expected_value"
   ]
  },
  {
   "cell_type": "code",
   "execution_count": 13,
   "id": "b2dab427",
   "metadata": {},
   "outputs": [
    {
     "data": {
      "text/plain": [
       "(178, 12)"
      ]
     },
     "execution_count": 13,
     "metadata": {},
     "output_type": "execute_result"
    }
   ],
   "source": [
    "shap_values.shape"
   ]
  },
  {
   "cell_type": "code",
   "execution_count": 14,
   "id": "5c8644e5",
   "metadata": {},
   "outputs": [
    {
     "data": {
      "text/html": [
       "<div>\n",
       "<style scoped>\n",
       "    .dataframe tbody tr th:only-of-type {\n",
       "        vertical-align: middle;\n",
       "    }\n",
       "\n",
       "    .dataframe tbody tr th {\n",
       "        vertical-align: top;\n",
       "    }\n",
       "\n",
       "    .dataframe thead th {\n",
       "        text-align: right;\n",
       "    }\n",
       "</style>\n",
       "<table border=\"1\" class=\"dataframe\">\n",
       "  <thead>\n",
       "    <tr style=\"text-align: right;\">\n",
       "      <th></th>\n",
       "      <th>var1</th>\n",
       "      <th>var2</th>\n",
       "      <th>var3</th>\n",
       "      <th>var4</th>\n",
       "      <th>var5</th>\n",
       "      <th>var6</th>\n",
       "      <th>var7</th>\n",
       "      <th>var8</th>\n",
       "      <th>var9</th>\n",
       "      <th>var10</th>\n",
       "      <th>var11</th>\n",
       "      <th>var12</th>\n",
       "    </tr>\n",
       "  </thead>\n",
       "  <tbody>\n",
       "    <tr>\n",
       "      <th>0</th>\n",
       "      <td>75.070549</td>\n",
       "      <td>1.816924</td>\n",
       "      <td>-2.010980</td>\n",
       "      <td>10.597252</td>\n",
       "      <td>47.681082</td>\n",
       "      <td>-2.607608</td>\n",
       "      <td>131.188821</td>\n",
       "      <td>1.835931</td>\n",
       "      <td>-4.861626</td>\n",
       "      <td>43.382359</td>\n",
       "      <td>-5.461489</td>\n",
       "      <td>-9.095760</td>\n",
       "    </tr>\n",
       "    <tr>\n",
       "      <th>1</th>\n",
       "      <td>108.309057</td>\n",
       "      <td>5.980105</td>\n",
       "      <td>3.575720</td>\n",
       "      <td>8.914580</td>\n",
       "      <td>59.067558</td>\n",
       "      <td>-7.430154</td>\n",
       "      <td>126.883830</td>\n",
       "      <td>4.664730</td>\n",
       "      <td>8.323822</td>\n",
       "      <td>-30.326779</td>\n",
       "      <td>25.869418</td>\n",
       "      <td>-3.926497</td>\n",
       "    </tr>\n",
       "    <tr>\n",
       "      <th>2</th>\n",
       "      <td>119.270877</td>\n",
       "      <td>6.093593</td>\n",
       "      <td>6.176884</td>\n",
       "      <td>6.884506</td>\n",
       "      <td>62.778208</td>\n",
       "      <td>-2.713013</td>\n",
       "      <td>180.669329</td>\n",
       "      <td>1.087073</td>\n",
       "      <td>2.059555</td>\n",
       "      <td>81.792894</td>\n",
       "      <td>-3.613451</td>\n",
       "      <td>13.162024</td>\n",
       "    </tr>\n",
       "    <tr>\n",
       "      <th>3</th>\n",
       "      <td>129.611379</td>\n",
       "      <td>3.713929</td>\n",
       "      <td>24.747114</td>\n",
       "      <td>9.851743</td>\n",
       "      <td>77.054683</td>\n",
       "      <td>-6.807645</td>\n",
       "      <td>230.189554</td>\n",
       "      <td>9.692547</td>\n",
       "      <td>-1.249620</td>\n",
       "      <td>149.978828</td>\n",
       "      <td>-5.162482</td>\n",
       "      <td>-40.730678</td>\n",
       "    </tr>\n",
       "    <tr>\n",
       "      <th>4</th>\n",
       "      <td>88.804927</td>\n",
       "      <td>-1.395013</td>\n",
       "      <td>-20.692784</td>\n",
       "      <td>-2.285697</td>\n",
       "      <td>67.841866</td>\n",
       "      <td>1.478476</td>\n",
       "      <td>101.804637</td>\n",
       "      <td>-2.489460</td>\n",
       "      <td>-2.850233</td>\n",
       "      <td>-87.135515</td>\n",
       "      <td>-0.837801</td>\n",
       "      <td>12.434633</td>\n",
       "    </tr>\n",
       "    <tr>\n",
       "      <th>...</th>\n",
       "      <td>...</td>\n",
       "      <td>...</td>\n",
       "      <td>...</td>\n",
       "      <td>...</td>\n",
       "      <td>...</td>\n",
       "      <td>...</td>\n",
       "      <td>...</td>\n",
       "      <td>...</td>\n",
       "      <td>...</td>\n",
       "      <td>...</td>\n",
       "      <td>...</td>\n",
       "      <td>...</td>\n",
       "    </tr>\n",
       "    <tr>\n",
       "      <th>173</th>\n",
       "      <td>41.368427</td>\n",
       "      <td>2.475124</td>\n",
       "      <td>4.979054</td>\n",
       "      <td>1.298590</td>\n",
       "      <td>17.741289</td>\n",
       "      <td>2.947479</td>\n",
       "      <td>-169.266557</td>\n",
       "      <td>-1.513638</td>\n",
       "      <td>-0.067463</td>\n",
       "      <td>70.672263</td>\n",
       "      <td>-6.382588</td>\n",
       "      <td>-20.655506</td>\n",
       "    </tr>\n",
       "    <tr>\n",
       "      <th>174</th>\n",
       "      <td>70.089569</td>\n",
       "      <td>3.368361</td>\n",
       "      <td>4.515340</td>\n",
       "      <td>-3.010667</td>\n",
       "      <td>34.559630</td>\n",
       "      <td>2.002437</td>\n",
       "      <td>-144.162770</td>\n",
       "      <td>-2.035013</td>\n",
       "      <td>3.800081</td>\n",
       "      <td>53.959796</td>\n",
       "      <td>-5.411257</td>\n",
       "      <td>-25.108581</td>\n",
       "    </tr>\n",
       "    <tr>\n",
       "      <th>175</th>\n",
       "      <td>92.653668</td>\n",
       "      <td>5.547011</td>\n",
       "      <td>7.916858</td>\n",
       "      <td>0.765741</td>\n",
       "      <td>46.372474</td>\n",
       "      <td>15.651591</td>\n",
       "      <td>-117.834349</td>\n",
       "      <td>-1.830206</td>\n",
       "      <td>10.606823</td>\n",
       "      <td>69.510747</td>\n",
       "      <td>-8.941371</td>\n",
       "      <td>-13.333728</td>\n",
       "    </tr>\n",
       "    <tr>\n",
       "      <th>176</th>\n",
       "      <td>87.753512</td>\n",
       "      <td>-2.575208</td>\n",
       "      <td>4.580695</td>\n",
       "      <td>0.535066</td>\n",
       "      <td>41.824897</td>\n",
       "      <td>12.071201</td>\n",
       "      <td>-145.361625</td>\n",
       "      <td>-0.941328</td>\n",
       "      <td>3.884350</td>\n",
       "      <td>73.234487</td>\n",
       "      <td>-10.186412</td>\n",
       "      <td>-15.269376</td>\n",
       "    </tr>\n",
       "    <tr>\n",
       "      <th>177</th>\n",
       "      <td>40.367594</td>\n",
       "      <td>-3.071984</td>\n",
       "      <td>-4.159355</td>\n",
       "      <td>-4.624201</td>\n",
       "      <td>18.760652</td>\n",
       "      <td>-0.145239</td>\n",
       "      <td>-168.075365</td>\n",
       "      <td>-0.382353</td>\n",
       "      <td>9.512712</td>\n",
       "      <td>72.889832</td>\n",
       "      <td>-7.285859</td>\n",
       "      <td>-33.059659</td>\n",
       "    </tr>\n",
       "  </tbody>\n",
       "</table>\n",
       "<p>178 rows × 12 columns</p>\n",
       "</div>"
      ],
      "text/plain": [
       "           var1      var2       var3       var4       var5       var6  \\\n",
       "0     75.070549  1.816924  -2.010980  10.597252  47.681082  -2.607608   \n",
       "1    108.309057  5.980105   3.575720   8.914580  59.067558  -7.430154   \n",
       "2    119.270877  6.093593   6.176884   6.884506  62.778208  -2.713013   \n",
       "3    129.611379  3.713929  24.747114   9.851743  77.054683  -6.807645   \n",
       "4     88.804927 -1.395013 -20.692784  -2.285697  67.841866   1.478476   \n",
       "..          ...       ...        ...        ...        ...        ...   \n",
       "173   41.368427  2.475124   4.979054   1.298590  17.741289   2.947479   \n",
       "174   70.089569  3.368361   4.515340  -3.010667  34.559630   2.002437   \n",
       "175   92.653668  5.547011   7.916858   0.765741  46.372474  15.651591   \n",
       "176   87.753512 -2.575208   4.580695   0.535066  41.824897  12.071201   \n",
       "177   40.367594 -3.071984  -4.159355  -4.624201  18.760652  -0.145239   \n",
       "\n",
       "           var7      var8       var9       var10      var11      var12  \n",
       "0    131.188821  1.835931  -4.861626   43.382359  -5.461489  -9.095760  \n",
       "1    126.883830  4.664730   8.323822  -30.326779  25.869418  -3.926497  \n",
       "2    180.669329  1.087073   2.059555   81.792894  -3.613451  13.162024  \n",
       "3    230.189554  9.692547  -1.249620  149.978828  -5.162482 -40.730678  \n",
       "4    101.804637 -2.489460  -2.850233  -87.135515  -0.837801  12.434633  \n",
       "..          ...       ...        ...         ...        ...        ...  \n",
       "173 -169.266557 -1.513638  -0.067463   70.672263  -6.382588 -20.655506  \n",
       "174 -144.162770 -2.035013   3.800081   53.959796  -5.411257 -25.108581  \n",
       "175 -117.834349 -1.830206  10.606823   69.510747  -8.941371 -13.333728  \n",
       "176 -145.361625 -0.941328   3.884350   73.234487 -10.186412 -15.269376  \n",
       "177 -168.075365 -0.382353   9.512712   72.889832  -7.285859 -33.059659  \n",
       "\n",
       "[178 rows x 12 columns]"
      ]
     },
     "execution_count": 14,
     "metadata": {},
     "output_type": "execute_result"
    }
   ],
   "source": [
    "# Shapley values in Dataframe\n",
    "shap_frame = pd.DataFrame(shap_values,columns=X.columns)\n",
    "shap_frame"
   ]
  },
  {
   "cell_type": "code",
   "execution_count": 15,
   "id": "ae88611e",
   "metadata": {},
   "outputs": [
    {
     "data": {
      "text/plain": [
       "999.0685286935286"
      ]
     },
     "execution_count": 15,
     "metadata": {},
     "output_type": "execute_result"
    }
   ],
   "source": [
    "# prediction\n",
    "y_pred = model2.predict(X)\n",
    "y_pred[0]"
   ]
  },
  {
   "cell_type": "code",
   "execution_count": 16,
   "id": "46eb385d",
   "metadata": {},
   "outputs": [
    {
     "data": {
      "text/plain": [
       "999.0685286935286"
      ]
     },
     "execution_count": 16,
     "metadata": {},
     "output_type": "execute_result"
    }
   ],
   "source": [
    "# Explanatory model (additive)\n",
    "explainer.expected_value + np.sum(shap_frame.iloc[0,:])"
   ]
  },
  {
   "cell_type": "code",
   "execution_count": 17,
   "id": "fb08f40f",
   "metadata": {},
   "outputs": [
    {
     "data": {
      "text/html": [
       "<div>\n",
       "<style scoped>\n",
       "    .dataframe tbody tr th:only-of-type {\n",
       "        vertical-align: middle;\n",
       "    }\n",
       "\n",
       "    .dataframe tbody tr th {\n",
       "        vertical-align: top;\n",
       "    }\n",
       "\n",
       "    .dataframe thead th {\n",
       "        text-align: right;\n",
       "    }\n",
       "</style>\n",
       "<table border=\"1\" class=\"dataframe\">\n",
       "  <thead>\n",
       "    <tr style=\"text-align: right;\">\n",
       "      <th></th>\n",
       "      <th>var1</th>\n",
       "      <th>var2</th>\n",
       "      <th>var3</th>\n",
       "      <th>var4</th>\n",
       "      <th>var5</th>\n",
       "      <th>var6</th>\n",
       "      <th>var7</th>\n",
       "      <th>var8</th>\n",
       "      <th>var9</th>\n",
       "      <th>var10</th>\n",
       "      <th>var11</th>\n",
       "      <th>var12</th>\n",
       "      <th>pred</th>\n",
       "    </tr>\n",
       "  </thead>\n",
       "  <tbody>\n",
       "    <tr>\n",
       "      <th>0</th>\n",
       "      <td>75.070549</td>\n",
       "      <td>1.816924</td>\n",
       "      <td>-2.01098</td>\n",
       "      <td>10.597252</td>\n",
       "      <td>47.681082</td>\n",
       "      <td>-2.607608</td>\n",
       "      <td>131.188821</td>\n",
       "      <td>1.835931</td>\n",
       "      <td>-4.861626</td>\n",
       "      <td>43.382359</td>\n",
       "      <td>-5.461489</td>\n",
       "      <td>-9.09576</td>\n",
       "      <td>999.068529</td>\n",
       "    </tr>\n",
       "  </tbody>\n",
       "</table>\n",
       "</div>"
      ],
      "text/plain": [
       "        var1      var2     var3       var4       var5      var6        var7  \\\n",
       "0  75.070549  1.816924 -2.01098  10.597252  47.681082 -2.607608  131.188821   \n",
       "\n",
       "       var8      var9      var10     var11    var12        pred  \n",
       "0  1.835931 -4.861626  43.382359 -5.461489 -9.09576  999.068529  "
      ]
     },
     "execution_count": 17,
     "metadata": {},
     "output_type": "execute_result"
    }
   ],
   "source": [
    "# shapley value for 1st observation \n",
    "obs = pd.DataFrame(shap_frame.iloc[0,:]).T\n",
    "obs[\"pred\"] = y_pred[0] \n",
    "obs\n",
    "\n",
    "#final prediction = the average prediction + the shap values of all features."
   ]
  },
  {
   "cell_type": "code",
   "execution_count": 18,
   "id": "01dd808c",
   "metadata": {},
   "outputs": [
    {
     "data": {
      "image/png": "[encoded data removed]",
      "text/plain": [
       "<Figure size 576x468 with 3 Axes>"
      ]
     },
     "metadata": {},
     "output_type": "display_data"
    }
   ],
   "source": [
    "# WATERFALL plot \n",
    "\n",
    "shap_object = shap.Explanation(base_values = explainer.expected_value,\n",
    "                                values = shap_values[0],\n",
    "                                feature_names = X.columns,\n",
    "                                data = shap_values[0].data)\n",
    "\n",
    "shap.plots.waterfall(shap_object)"
   ]
  },
  {
   "cell_type": "markdown",
   "id": "0baef859",
   "metadata": {},
   "source": [
    "### Variable importance for prediction using  Mean of absolute shap values"
   ]
  },
  {
   "cell_type": "code",
   "execution_count": 19,
   "id": "c4fc472a",
   "metadata": {
    "scrolled": false
   },
   "outputs": [
    {
     "data": {
      "image/png": "[encoded data removed]",
      "text/plain": [
       "<Figure size 432x288 with 1 Axes>"
      ]
     },
     "metadata": {
      "needs_background": "light"
     },
     "output_type": "display_data"
    }
   ],
   "source": [
    "# calculate feature importance\n",
    "importance_values = pd.DataFrame(abs(shap_values).mean(0), index=X.columns, columns=['importance'])\n",
    "importance_values = importance_values.sort_values('importance', ascending=False)\n",
    "\n",
    "# plot feature importance\n",
    "plt.barh(importance_values.index, importance_values['importance'])\n",
    "plt.xlabel('Average absolute SHAP value')\n",
    "plt.ylabel('Feature')\n",
    "plt.show()"
   ]
  },
  {
   "cell_type": "markdown",
   "id": "abdccaac",
   "metadata": {},
   "source": [
    "### Variable summary plot using shapley values"
   ]
  },
  {
   "cell_type": "code",
   "execution_count": 20,
   "id": "6e5c9759",
   "metadata": {
    "scrolled": false
   },
   "outputs": [
    {
     "data": {
      "image/png": "[encoded data removed]",
      "text/plain": [
       "<Figure size 576x453.6 with 2 Axes>"
      ]
     },
     "metadata": {
      "needs_background": "light"
     },
     "output_type": "display_data"
    }
   ],
   "source": [
    "# Beeswarm plot to see the relation of the features with the target using shap values\n",
    "shap.summary_plot(shap_values,X)"
   ]
  }
 ],
 "metadata": {
  "kernelspec": {
   "display_name": "Python 3 (ipykernel)",
   "language": "python",
   "name": "python3"
  },
  "language_info": {
   "codemirror_mode": {
    "name": "ipython",
    "version": 3
   },
   "file_extension": ".py",
   "mimetype": "text/x-python",
   "name": "python",
   "nbconvert_exporter": "python",
   "pygments_lexer": "ipython3",
   "version": "3.9.12"
  }
 },
 "nbformat": 4,
 "nbformat_minor": 5
}
