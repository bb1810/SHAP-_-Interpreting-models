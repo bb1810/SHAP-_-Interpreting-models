{
 "cells": [
  {
   "cell_type": "markdown",
   "id": "922351f3",
   "metadata": {},
   "source": [
    "## Explaining SHAP"
   ]
  },
  {
   "cell_type": "markdown",
   "id": "78f656d3",
   "metadata": {},
   "source": [
    "#### Importing Libraries"
   ]
  },
  {
   "cell_type": "code",
   "execution_count": 133,
   "id": "903d6c9f",
   "metadata": {},
   "outputs": [],
   "source": [
    "import pandas as pd\n",
    "import numpy as np\n",
    "import matplotlib.pyplot as plt\n",
    "import warnings\n",
    "warnings.filterwarnings(\"ignore\")\n",
    "import seaborn as sns"
   ]
  },
  {
   "cell_type": "code",
   "execution_count": 134,
   "id": "b6cb5139",
   "metadata": {},
   "outputs": [],
   "source": [
    "from sklearn.model_selection import train_test_split\n",
    "from sklearn import preprocessing\n",
    "from sklearn.ensemble import RandomForestRegressor\n",
    "from sklearn.linear_model import LinearRegression\n",
    "import statsmodels.api as sm\n",
    "from sklearn.metrics import mean_absolute_error,mean_absolute_percentage_error\n",
    "from sklearn.preprocessing import StandardScaler"
   ]
  },
  {
   "cell_type": "code",
   "execution_count": 135,
   "id": "36d535c1",
   "metadata": {},
   "outputs": [],
   "source": [
    "import shap"
   ]
  },
  {
   "cell_type": "code",
   "execution_count": 136,
   "id": "985941b5",
   "metadata": {},
   "outputs": [],
   "source": [
    "from sklearn import datasets"
   ]
  },
  {
   "cell_type": "markdown",
   "id": "870289f5",
   "metadata": {},
   "source": [
    "#### Importing python dataset and assigning variable names"
   ]
  },
  {
   "cell_type": "code",
   "execution_count": 137,
   "id": "723aa597",
   "metadata": {},
   "outputs": [
    {
     "data": {
      "text/html": [
       "<div>\n",
       "<style scoped>\n",
       "    .dataframe tbody tr th:only-of-type {\n",
       "        vertical-align: middle;\n",
       "    }\n",
       "\n",
       "    .dataframe tbody tr th {\n",
       "        vertical-align: top;\n",
       "    }\n",
       "\n",
       "    .dataframe thead th {\n",
       "        text-align: right;\n",
       "    }\n",
       "</style>\n",
       "<table border=\"1\" class=\"dataframe\">\n",
       "  <thead>\n",
       "    <tr style=\"text-align: right;\">\n",
       "      <th></th>\n",
       "      <th>0</th>\n",
       "      <th>1</th>\n",
       "      <th>2</th>\n",
       "      <th>3</th>\n",
       "      <th>4</th>\n",
       "      <th>5</th>\n",
       "      <th>6</th>\n",
       "      <th>7</th>\n",
       "      <th>8</th>\n",
       "      <th>9</th>\n",
       "      <th>10</th>\n",
       "      <th>11</th>\n",
       "      <th>12</th>\n",
       "    </tr>\n",
       "  </thead>\n",
       "  <tbody>\n",
       "    <tr>\n",
       "      <th>0</th>\n",
       "      <td>14.23</td>\n",
       "      <td>1.71</td>\n",
       "      <td>2.43</td>\n",
       "      <td>15.6</td>\n",
       "      <td>127.0</td>\n",
       "      <td>2.80</td>\n",
       "      <td>3.06</td>\n",
       "      <td>0.28</td>\n",
       "      <td>2.29</td>\n",
       "      <td>5.64</td>\n",
       "      <td>1.04</td>\n",
       "      <td>3.92</td>\n",
       "      <td>1065.0</td>\n",
       "    </tr>\n",
       "    <tr>\n",
       "      <th>1</th>\n",
       "      <td>13.20</td>\n",
       "      <td>1.78</td>\n",
       "      <td>2.14</td>\n",
       "      <td>11.2</td>\n",
       "      <td>100.0</td>\n",
       "      <td>2.65</td>\n",
       "      <td>2.76</td>\n",
       "      <td>0.26</td>\n",
       "      <td>1.28</td>\n",
       "      <td>4.38</td>\n",
       "      <td>1.05</td>\n",
       "      <td>3.40</td>\n",
       "      <td>1050.0</td>\n",
       "    </tr>\n",
       "    <tr>\n",
       "      <th>2</th>\n",
       "      <td>13.16</td>\n",
       "      <td>2.36</td>\n",
       "      <td>2.67</td>\n",
       "      <td>18.6</td>\n",
       "      <td>101.0</td>\n",
       "      <td>2.80</td>\n",
       "      <td>3.24</td>\n",
       "      <td>0.30</td>\n",
       "      <td>2.81</td>\n",
       "      <td>5.68</td>\n",
       "      <td>1.03</td>\n",
       "      <td>3.17</td>\n",
       "      <td>1185.0</td>\n",
       "    </tr>\n",
       "    <tr>\n",
       "      <th>3</th>\n",
       "      <td>14.37</td>\n",
       "      <td>1.95</td>\n",
       "      <td>2.50</td>\n",
       "      <td>16.8</td>\n",
       "      <td>113.0</td>\n",
       "      <td>3.85</td>\n",
       "      <td>3.49</td>\n",
       "      <td>0.24</td>\n",
       "      <td>2.18</td>\n",
       "      <td>7.80</td>\n",
       "      <td>0.86</td>\n",
       "      <td>3.45</td>\n",
       "      <td>1480.0</td>\n",
       "    </tr>\n",
       "    <tr>\n",
       "      <th>4</th>\n",
       "      <td>13.24</td>\n",
       "      <td>2.59</td>\n",
       "      <td>2.87</td>\n",
       "      <td>21.0</td>\n",
       "      <td>118.0</td>\n",
       "      <td>2.80</td>\n",
       "      <td>2.69</td>\n",
       "      <td>0.39</td>\n",
       "      <td>1.82</td>\n",
       "      <td>4.32</td>\n",
       "      <td>1.04</td>\n",
       "      <td>2.93</td>\n",
       "      <td>735.0</td>\n",
       "    </tr>\n",
       "  </tbody>\n",
       "</table>\n",
       "</div>"
      ],
      "text/plain": [
       "      0     1     2     3      4     5     6     7     8     9     10    11  \\\n",
       "0  14.23  1.71  2.43  15.6  127.0  2.80  3.06  0.28  2.29  5.64  1.04  3.92   \n",
       "1  13.20  1.78  2.14  11.2  100.0  2.65  2.76  0.26  1.28  4.38  1.05  3.40   \n",
       "2  13.16  2.36  2.67  18.6  101.0  2.80  3.24  0.30  2.81  5.68  1.03  3.17   \n",
       "3  14.37  1.95  2.50  16.8  113.0  3.85  3.49  0.24  2.18  7.80  0.86  3.45   \n",
       "4  13.24  2.59  2.87  21.0  118.0  2.80  2.69  0.39  1.82  4.32  1.04  2.93   \n",
       "\n",
       "       12  \n",
       "0  1065.0  \n",
       "1  1050.0  \n",
       "2  1185.0  \n",
       "3  1480.0  \n",
       "4   735.0  "
      ]
     },
     "execution_count": 137,
     "metadata": {},
     "output_type": "execute_result"
    }
   ],
   "source": [
    "df = pd.DataFrame(datasets.load_wine().data)\n",
    "df.head()"
   ]
  },
  {
   "cell_type": "code",
   "execution_count": 138,
   "id": "0dea479b",
   "metadata": {},
   "outputs": [],
   "source": [
    "df.columns = ['var1', 'var2', 'var3', 'var4', 'var5', 'var6', 'var7', 'var8', 'var9', 'var10', 'var11', 'var12','target']"
   ]
  },
  {
   "cell_type": "markdown",
   "id": "2f63dda7",
   "metadata": {},
   "source": [
    "#### Using Ensembling model to train and predict"
   ]
  },
  {
   "cell_type": "markdown",
   "id": "45fe8698",
   "metadata": {},
   "source": [
    "### Random forest"
   ]
  },
  {
   "cell_type": "code",
   "execution_count": 139,
   "id": "523e1eb2",
   "metadata": {},
   "outputs": [],
   "source": [
    "#X_train, X_test, y_train, y_test = train_test_split(X, y, test_size = 0.2,random_state=0)\n",
    "y = df['target']\n",
    "X = df[[\"var1\",\"var2\",\"var3\",\"var4\",\"var5\",\"var6\",\"var7\",\"var8\",\"var9\",\"var10\",\"var11\",\"var12\"]]"
   ]
  },
  {
   "cell_type": "code",
   "execution_count": 140,
   "id": "5e3f7648",
   "metadata": {},
   "outputs": [
    {
     "data": {
      "text/plain": [
       "RandomForestRegressor(max_depth=6, n_estimators=10, random_state=0)"
      ]
     },
     "execution_count": 140,
     "metadata": {},
     "output_type": "execute_result"
    }
   ],
   "source": [
    "# Build the model with the random forest regression\n",
    "model2 = RandomForestRegressor(max_depth=6, random_state=0, n_estimators=10)\n",
    "model2.fit(X, y)"
   ]
  },
  {
   "cell_type": "markdown",
   "id": "7366184a",
   "metadata": {},
   "source": [
    "* Prediction using original model"
   ]
  },
  {
   "cell_type": "code",
   "execution_count": 141,
   "id": "ca1e7223",
   "metadata": {
    "scrolled": true
   },
   "outputs": [
    {
     "data": {
      "text/plain": [
       "array([ 999.06852869, 1021.43846395, 1185.18155345, 1292.42242647,\n",
       "        866.21111111, 1349.00238095, 1190.2530754 , 1224.64277882,\n",
       "       1163.52105263, 1120.38085901, 1317.07056244, 1190.72437533,\n",
       "       1115.33494152, 1210.98216374, 1483.78333333, 1319.12936508,\n",
       "       1248.76152882, 1232.21986216, 1485.1       , 1009.86925187,\n",
       "        870.40716374,  817.68872475, 1003.98817155,  858.12818381,\n",
       "        972.88194444,  864.30277778, 1110.12073474,  819.26850649,\n",
       "        906.61495726,  880.94698455, 1213.75597327, 1389.07383041,\n",
       "        996.2093254 , 1248.27541771, 1027.03045113, 1002.42081628,\n",
       "        953.39711779,  992.43693381,  913.83223684,  875.5218254 ,\n",
       "       1029.85585901,  909.64473684, 1109.26476469,  828.03333333,\n",
       "        943.95908425, 1083.9762903 ,  966.46697012,  992.21697012,\n",
       "       1207.21827485, 1213.5245098 , 1001.7977193 , 1181.44940275,\n",
       "       1192.3009979 , 1272.23375104, 1088.35386383, 1151.9025852 ,\n",
       "       1057.75863679, 1237.09883041, 1233.19404762,  519.59004202,\n",
       "        634.79235931,  540.29202667,  600.07261905,  439.94166667,\n",
       "        390.69984127,  696.00831349,  572.1       ,  480.91      ,\n",
       "        672.79166667,  788.54333333,  609.55497708,  510.05      ,\n",
       "        547.68611111,  925.86495726,  651.02207792,  542.94984594,\n",
       "        433.57619048,  554.16479925,  725.9082684 ,  558.12191697,\n",
       "        341.20293736,  607.45863095,  605.29720907,  525.14183007,\n",
       "        516.37912698,  403.12858449,  487.30662932,  574.3273678 ,\n",
       "        568.0334284 ,  590.63015024,  515.88509252,  489.67777778,\n",
       "        515.97162932,  340.29793736,  597.53482143,  942.9       ,\n",
       "        570.31469103,  423.6535348 ,  576.59363095,  493.1282967 ,\n",
       "        610.65618506,  546.11456583,  453.07842491,  503.05554707,\n",
       "        514.48128554,  388.60616246,  458.75      ,  483.89571895,\n",
       "        376.67802893,  687.33349206,  641.51904762,  356.82782136,\n",
       "        588.37071429,  463.83583639,  421.26059829,  404.36332556,\n",
       "        546.74152109,  420.07302893,  452.5535761 ,  558.02030897,\n",
       "        682.35479853,  695.73549837,  385.13572734,  382.2032967 ,\n",
       "        464.1232967 ,  394.90567766,  383.52380952,  431.07252388,\n",
       "        344.43841355,  569.77570113,  627.6114881 ,  597.81337535,\n",
       "        552.86139122,  585.27528011,  618.22170921,  648.50593254,\n",
       "        638.11468254,  614.02275486,  559.57222222,  595.84573466,\n",
       "        688.17301587,  648.3709596 ,  598.00429293,  581.8959596 ,\n",
       "        807.35618506,  787.84636364,  456.04444444,  567.63055556,\n",
       "        658.13484848,  584.45028011,  583.89047619,  500.15028011,\n",
       "        574.66813725,  704.38484848,  662.66817927,  721.18484848,\n",
       "        603.22954545,  696.1046176 ,  664.84621212,  610.12954545,\n",
       "        544.18660767,  612.66666667,  597.80028011,  635.1364881 ,\n",
       "        649.00151515,  531.63492063,  688.86666667,  591.01281979,\n",
       "        715.36136364,  671.16136364,  615.30595705,  501.58294118,\n",
       "        674.36287879,  655.12954545,  704.1       ,  818.61833333,\n",
       "        761.08333333,  632.25984848])"
      ]
     },
     "execution_count": 141,
     "metadata": {},
     "output_type": "execute_result"
    }
   ],
   "source": [
    "model2.predict(X)"
   ]
  },
  {
   "cell_type": "code",
   "execution_count": 142,
   "id": "f3c64da9",
   "metadata": {},
   "outputs": [
    {
     "data": {
      "text/plain": [
       "999.0685286935286"
      ]
     },
     "execution_count": 142,
     "metadata": {},
     "output_type": "execute_result"
    }
   ],
   "source": [
    "# OBSERVATION 1 prediction\n",
    "model2.predict(X)[0]"
   ]
  },
  {
   "cell_type": "code",
   "execution_count": 143,
   "id": "2cedfcea",
   "metadata": {},
   "outputs": [],
   "source": [
    "#__________________________________________________________________________________________________________________________"
   ]
  },
  {
   "cell_type": "markdown",
   "id": "c834c1e2",
   "metadata": {},
   "source": [
    "* <b> Kernel shap"
   ]
  },
  {
   "cell_type": "code",
   "execution_count": 144,
   "id": "c1387c7b",
   "metadata": {},
   "outputs": [
    {
     "data": {
      "application/vnd.jupyter.widget-view+json": {
       "model_id": "85c2c07c3e9a4ba9b09253a8547831bf",
       "version_major": 2,
       "version_minor": 0
      },
      "text/plain": [
       "  0%|          | 0/178 [00:00<?, ?it/s]"
      ]
     },
     "metadata": {},
     "output_type": "display_data"
    }
   ],
   "source": [
    "# Using Kernel shap to approximate shapley values\n",
    "\n",
    "# shapley kernel is used to overcome the complexity of making numereous coalitions.\n",
    "\n",
    "masker = shap.maskers.Independent(X, 50)\n",
    "explainer1 = shap.KernelExplainer(model2.predict, masker.data)\n",
    "\n",
    "shap_values1 = explainer1.shap_values(X)\n",
    "\n",
    "# takes 3-4 mins to complete"
   ]
  },
  {
   "cell_type": "code",
   "execution_count": 145,
   "id": "8d31d6d9",
   "metadata": {
    "scrolled": true
   },
   "outputs": [
    {
     "data": {
      "text/plain": [
       "array([[ 75.87528202,   1.9697169 ,  -1.05351812, ...,  42.97698837,\n",
       "         -5.58638493,  -9.26751545],\n",
       "       [109.38637655,   6.370016  ,   2.24877881, ..., -29.51334973,\n",
       "         25.6234012 ,  -5.06159671],\n",
       "       [118.35700306,   6.23191888,   6.38754671, ...,  80.51647849,\n",
       "         -4.08600872,  12.71460111],\n",
       "       ...,\n",
       "       [ 92.32795446,   5.68822327,   8.13726212, ...,  69.02129772,\n",
       "         -8.79570023, -12.7567616 ],\n",
       "       [ 87.54171511,  -1.75349224,   4.18504244, ...,  73.06143887,\n",
       "        -10.93457889, -14.29554468],\n",
       "       [ 40.54435542,  -3.84868159,  -4.69184842, ...,  72.87098916,\n",
       "         -7.76072865, -33.65005465]])"
      ]
     },
     "execution_count": 145,
     "metadata": {},
     "output_type": "execute_result"
    }
   ],
   "source": [
    "shap_values1"
   ]
  },
  {
   "cell_type": "code",
   "execution_count": 146,
   "id": "1e14655d",
   "metadata": {},
   "outputs": [
    {
     "data": {
      "text/plain": [
       "711.5330736589262"
      ]
     },
     "execution_count": 146,
     "metadata": {},
     "output_type": "execute_result"
    }
   ],
   "source": [
    "# Null model prediction (Avg_prediction)\n",
    "explainer1.expected_value"
   ]
  },
  {
   "cell_type": "code",
   "execution_count": 147,
   "id": "b2dab427",
   "metadata": {},
   "outputs": [
    {
     "data": {
      "text/plain": [
       "(178, 12)"
      ]
     },
     "execution_count": 147,
     "metadata": {},
     "output_type": "execute_result"
    }
   ],
   "source": [
    "shap_values1.shape"
   ]
  },
  {
   "cell_type": "code",
   "execution_count": 148,
   "id": "5c8644e5",
   "metadata": {},
   "outputs": [
    {
     "data": {
      "text/html": [
       "<div>\n",
       "<style scoped>\n",
       "    .dataframe tbody tr th:only-of-type {\n",
       "        vertical-align: middle;\n",
       "    }\n",
       "\n",
       "    .dataframe tbody tr th {\n",
       "        vertical-align: top;\n",
       "    }\n",
       "\n",
       "    .dataframe thead th {\n",
       "        text-align: right;\n",
       "    }\n",
       "</style>\n",
       "<table border=\"1\" class=\"dataframe\">\n",
       "  <thead>\n",
       "    <tr style=\"text-align: right;\">\n",
       "      <th></th>\n",
       "      <th>var1</th>\n",
       "      <th>var2</th>\n",
       "      <th>var3</th>\n",
       "      <th>var4</th>\n",
       "      <th>var5</th>\n",
       "      <th>var6</th>\n",
       "      <th>var7</th>\n",
       "      <th>var8</th>\n",
       "      <th>var9</th>\n",
       "      <th>var10</th>\n",
       "      <th>var11</th>\n",
       "      <th>var12</th>\n",
       "    </tr>\n",
       "  </thead>\n",
       "  <tbody>\n",
       "    <tr>\n",
       "      <th>0</th>\n",
       "      <td>75.875282</td>\n",
       "      <td>1.969717</td>\n",
       "      <td>-1.053518</td>\n",
       "      <td>10.176694</td>\n",
       "      <td>46.414549</td>\n",
       "      <td>-1.693969</td>\n",
       "      <td>130.214820</td>\n",
       "      <td>1.836611</td>\n",
       "      <td>-4.327819</td>\n",
       "      <td>42.976988</td>\n",
       "      <td>-5.586385</td>\n",
       "      <td>-9.267515</td>\n",
       "    </tr>\n",
       "    <tr>\n",
       "      <th>1</th>\n",
       "      <td>109.386377</td>\n",
       "      <td>6.370016</td>\n",
       "      <td>2.248779</td>\n",
       "      <td>7.434595</td>\n",
       "      <td>59.640506</td>\n",
       "      <td>-6.734621</td>\n",
       "      <td>127.896414</td>\n",
       "      <td>3.954513</td>\n",
       "      <td>8.660356</td>\n",
       "      <td>-29.513350</td>\n",
       "      <td>25.623401</td>\n",
       "      <td>-5.061597</td>\n",
       "    </tr>\n",
       "    <tr>\n",
       "      <th>2</th>\n",
       "      <td>118.357003</td>\n",
       "      <td>6.231919</td>\n",
       "      <td>6.387547</td>\n",
       "      <td>8.081191</td>\n",
       "      <td>61.656481</td>\n",
       "      <td>-2.299600</td>\n",
       "      <td>181.492909</td>\n",
       "      <td>1.026592</td>\n",
       "      <td>3.569368</td>\n",
       "      <td>80.516478</td>\n",
       "      <td>-4.086009</td>\n",
       "      <td>12.714601</td>\n",
       "    </tr>\n",
       "    <tr>\n",
       "      <th>3</th>\n",
       "      <td>129.873061</td>\n",
       "      <td>2.250239</td>\n",
       "      <td>24.034355</td>\n",
       "      <td>11.948614</td>\n",
       "      <td>75.679290</td>\n",
       "      <td>-7.643572</td>\n",
       "      <td>229.611594</td>\n",
       "      <td>8.856249</td>\n",
       "      <td>-1.042631</td>\n",
       "      <td>150.798979</td>\n",
       "      <td>-2.047688</td>\n",
       "      <td>-41.429136</td>\n",
       "    </tr>\n",
       "    <tr>\n",
       "      <th>4</th>\n",
       "      <td>88.147085</td>\n",
       "      <td>-0.854084</td>\n",
       "      <td>-20.799804</td>\n",
       "      <td>-2.676615</td>\n",
       "      <td>67.750996</td>\n",
       "      <td>0.878972</td>\n",
       "      <td>102.284299</td>\n",
       "      <td>-1.834601</td>\n",
       "      <td>-2.297825</td>\n",
       "      <td>-87.873595</td>\n",
       "      <td>-1.009589</td>\n",
       "      <td>12.962799</td>\n",
       "    </tr>\n",
       "    <tr>\n",
       "      <th>...</th>\n",
       "      <td>...</td>\n",
       "      <td>...</td>\n",
       "      <td>...</td>\n",
       "      <td>...</td>\n",
       "      <td>...</td>\n",
       "      <td>...</td>\n",
       "      <td>...</td>\n",
       "      <td>...</td>\n",
       "      <td>...</td>\n",
       "      <td>...</td>\n",
       "      <td>...</td>\n",
       "      <td>...</td>\n",
       "    </tr>\n",
       "    <tr>\n",
       "      <th>173</th>\n",
       "      <td>40.713431</td>\n",
       "      <td>1.868841</td>\n",
       "      <td>4.667703</td>\n",
       "      <td>1.252943</td>\n",
       "      <td>19.445381</td>\n",
       "      <td>3.437136</td>\n",
       "      <td>-169.324271</td>\n",
       "      <td>-1.883926</td>\n",
       "      <td>-0.355772</td>\n",
       "      <td>70.563753</td>\n",
       "      <td>-6.205036</td>\n",
       "      <td>-20.583712</td>\n",
       "    </tr>\n",
       "    <tr>\n",
       "      <th>174</th>\n",
       "      <td>69.793210</td>\n",
       "      <td>4.213005</td>\n",
       "      <td>4.232022</td>\n",
       "      <td>-3.132412</td>\n",
       "      <td>34.562726</td>\n",
       "      <td>1.635567</td>\n",
       "      <td>-144.044659</td>\n",
       "      <td>-1.949645</td>\n",
       "      <td>3.882719</td>\n",
       "      <td>54.037524</td>\n",
       "      <td>-5.378817</td>\n",
       "      <td>-25.284315</td>\n",
       "    </tr>\n",
       "    <tr>\n",
       "      <th>175</th>\n",
       "      <td>92.327954</td>\n",
       "      <td>5.688223</td>\n",
       "      <td>8.137262</td>\n",
       "      <td>0.899374</td>\n",
       "      <td>45.913377</td>\n",
       "      <td>15.996326</td>\n",
       "      <td>-117.733288</td>\n",
       "      <td>-1.773426</td>\n",
       "      <td>10.160621</td>\n",
       "      <td>69.021298</td>\n",
       "      <td>-8.795700</td>\n",
       "      <td>-12.756762</td>\n",
       "    </tr>\n",
       "    <tr>\n",
       "      <th>176</th>\n",
       "      <td>87.541715</td>\n",
       "      <td>-1.753492</td>\n",
       "      <td>4.185042</td>\n",
       "      <td>0.930707</td>\n",
       "      <td>41.445278</td>\n",
       "      <td>12.038820</td>\n",
       "      <td>-144.846868</td>\n",
       "      <td>-0.782612</td>\n",
       "      <td>2.960355</td>\n",
       "      <td>73.061439</td>\n",
       "      <td>-10.934579</td>\n",
       "      <td>-14.295545</td>\n",
       "    </tr>\n",
       "    <tr>\n",
       "      <th>177</th>\n",
       "      <td>40.544355</td>\n",
       "      <td>-3.848682</td>\n",
       "      <td>-4.691848</td>\n",
       "      <td>-4.059395</td>\n",
       "      <td>19.369367</td>\n",
       "      <td>0.087347</td>\n",
       "      <td>-167.595300</td>\n",
       "      <td>-0.351315</td>\n",
       "      <td>9.812040</td>\n",
       "      <td>72.870989</td>\n",
       "      <td>-7.760729</td>\n",
       "      <td>-33.650055</td>\n",
       "    </tr>\n",
       "  </tbody>\n",
       "</table>\n",
       "<p>178 rows × 12 columns</p>\n",
       "</div>"
      ],
      "text/plain": [
       "           var1      var2       var3       var4       var5       var6  \\\n",
       "0     75.875282  1.969717  -1.053518  10.176694  46.414549  -1.693969   \n",
       "1    109.386377  6.370016   2.248779   7.434595  59.640506  -6.734621   \n",
       "2    118.357003  6.231919   6.387547   8.081191  61.656481  -2.299600   \n",
       "3    129.873061  2.250239  24.034355  11.948614  75.679290  -7.643572   \n",
       "4     88.147085 -0.854084 -20.799804  -2.676615  67.750996   0.878972   \n",
       "..          ...       ...        ...        ...        ...        ...   \n",
       "173   40.713431  1.868841   4.667703   1.252943  19.445381   3.437136   \n",
       "174   69.793210  4.213005   4.232022  -3.132412  34.562726   1.635567   \n",
       "175   92.327954  5.688223   8.137262   0.899374  45.913377  15.996326   \n",
       "176   87.541715 -1.753492   4.185042   0.930707  41.445278  12.038820   \n",
       "177   40.544355 -3.848682  -4.691848  -4.059395  19.369367   0.087347   \n",
       "\n",
       "           var7      var8       var9       var10      var11      var12  \n",
       "0    130.214820  1.836611  -4.327819   42.976988  -5.586385  -9.267515  \n",
       "1    127.896414  3.954513   8.660356  -29.513350  25.623401  -5.061597  \n",
       "2    181.492909  1.026592   3.569368   80.516478  -4.086009  12.714601  \n",
       "3    229.611594  8.856249  -1.042631  150.798979  -2.047688 -41.429136  \n",
       "4    102.284299 -1.834601  -2.297825  -87.873595  -1.009589  12.962799  \n",
       "..          ...       ...        ...         ...        ...        ...  \n",
       "173 -169.324271 -1.883926  -0.355772   70.563753  -6.205036 -20.583712  \n",
       "174 -144.044659 -1.949645   3.882719   54.037524  -5.378817 -25.284315  \n",
       "175 -117.733288 -1.773426  10.160621   69.021298  -8.795700 -12.756762  \n",
       "176 -144.846868 -0.782612   2.960355   73.061439 -10.934579 -14.295545  \n",
       "177 -167.595300 -0.351315   9.812040   72.870989  -7.760729 -33.650055  \n",
       "\n",
       "[178 rows x 12 columns]"
      ]
     },
     "execution_count": 148,
     "metadata": {},
     "output_type": "execute_result"
    }
   ],
   "source": [
    "# Shapley values in Dataframe\n",
    "shap_frame1 = pd.DataFrame(shap_values1,columns=X.columns)\n",
    "shap_frame1"
   ]
  },
  {
   "cell_type": "code",
   "execution_count": 149,
   "id": "ae88611e",
   "metadata": {},
   "outputs": [
    {
     "data": {
      "text/plain": [
       "999.0685286935286"
      ]
     },
     "execution_count": 149,
     "metadata": {},
     "output_type": "execute_result"
    }
   ],
   "source": [
    "# prediction\n",
    "y_pred = model2.predict(X)\n",
    "y_pred[0]"
   ]
  },
  {
   "cell_type": "code",
   "execution_count": 150,
   "id": "46eb385d",
   "metadata": {},
   "outputs": [
    {
     "data": {
      "text/plain": [
       "999.0685286935287"
      ]
     },
     "execution_count": 150,
     "metadata": {},
     "output_type": "execute_result"
    }
   ],
   "source": [
    "# Explanatory model (additive)\n",
    "explainer1.expected_value + np.sum(shap_frame1.iloc[0,:])"
   ]
  },
  {
   "cell_type": "code",
   "execution_count": 151,
   "id": "fb08f40f",
   "metadata": {},
   "outputs": [
    {
     "data": {
      "text/html": [
       "<div>\n",
       "<style scoped>\n",
       "    .dataframe tbody tr th:only-of-type {\n",
       "        vertical-align: middle;\n",
       "    }\n",
       "\n",
       "    .dataframe tbody tr th {\n",
       "        vertical-align: top;\n",
       "    }\n",
       "\n",
       "    .dataframe thead th {\n",
       "        text-align: right;\n",
       "    }\n",
       "</style>\n",
       "<table border=\"1\" class=\"dataframe\">\n",
       "  <thead>\n",
       "    <tr style=\"text-align: right;\">\n",
       "      <th></th>\n",
       "      <th>var1</th>\n",
       "      <th>var2</th>\n",
       "      <th>var3</th>\n",
       "      <th>var4</th>\n",
       "      <th>var5</th>\n",
       "      <th>var6</th>\n",
       "      <th>var7</th>\n",
       "      <th>var8</th>\n",
       "      <th>var9</th>\n",
       "      <th>var10</th>\n",
       "      <th>var11</th>\n",
       "      <th>var12</th>\n",
       "      <th>Model_pred</th>\n",
       "      <th>K_Shap_pred</th>\n",
       "    </tr>\n",
       "  </thead>\n",
       "  <tbody>\n",
       "    <tr>\n",
       "      <th>0</th>\n",
       "      <td>75.875282</td>\n",
       "      <td>1.969717</td>\n",
       "      <td>-1.053518</td>\n",
       "      <td>10.176694</td>\n",
       "      <td>46.414549</td>\n",
       "      <td>-1.693969</td>\n",
       "      <td>130.21482</td>\n",
       "      <td>1.836611</td>\n",
       "      <td>-4.327819</td>\n",
       "      <td>42.976988</td>\n",
       "      <td>-5.586385</td>\n",
       "      <td>-9.267515</td>\n",
       "      <td>999.068529</td>\n",
       "      <td>999.068529</td>\n",
       "    </tr>\n",
       "  </tbody>\n",
       "</table>\n",
       "</div>"
      ],
      "text/plain": [
       "        var1      var2      var3       var4       var5      var6       var7  \\\n",
       "0  75.875282  1.969717 -1.053518  10.176694  46.414549 -1.693969  130.21482   \n",
       "\n",
       "       var8      var9      var10     var11     var12  Model_pred  K_Shap_pred  \n",
       "0  1.836611 -4.327819  42.976988 -5.586385 -9.267515  999.068529   999.068529  "
      ]
     },
     "execution_count": 151,
     "metadata": {},
     "output_type": "execute_result"
    }
   ],
   "source": [
    "# shapley value for 1st observation \n",
    "obs = pd.DataFrame(shap_frame1.iloc[0,:]).T\n",
    "obs[\"Model_pred\"] = y_pred[0]\n",
    "obs[\"K_Shap_pred\"] = explainer1.expected_value + np.sum(shap_frame1.iloc[0,:])\n",
    "\n",
    "obs\n",
    "\n",
    "#final prediction = the average prediction + the shap values of all features."
   ]
  },
  {
   "cell_type": "markdown",
   "id": "f17eec59",
   "metadata": {},
   "source": [
    "### Feature importance for an observation (local interpretability)"
   ]
  },
  {
   "cell_type": "code",
   "execution_count": 152,
   "id": "01dd808c",
   "metadata": {},
   "outputs": [
    {
     "data": {
      "image/png": "[encoded data removed]",
      "text/plain": [
       "<Figure size 576x468 with 3 Axes>"
      ]
     },
     "metadata": {},
     "output_type": "display_data"
    }
   ],
   "source": [
    "# WATERFALL plot \n",
    "\n",
    "shap_object1 = shap.Explanation(base_values = explainer1.expected_value,\n",
    "                                values = shap_values1[0],\n",
    "                                feature_names = X.columns,\n",
    "                                data = shap_values1[0].data)\n",
    "\n",
    "shap.plots.waterfall(shap_object1)"
   ]
  },
  {
   "cell_type": "markdown",
   "id": "0baef859",
   "metadata": {},
   "source": [
    "### Variable importance for prediction using  Mean of absolute shap values(global interpretability)"
   ]
  },
  {
   "cell_type": "code",
   "execution_count": 153,
   "id": "c4fc472a",
   "metadata": {
    "scrolled": false
   },
   "outputs": [
    {
     "data": {
      "image/png": "[encoded data removed]",
      "text/plain": [
       "<Figure size 432x288 with 1 Axes>"
      ]
     },
     "metadata": {
      "needs_background": "light"
     },
     "output_type": "display_data"
    }
   ],
   "source": [
    "# calculate feature importance\n",
    "importance_values = pd.DataFrame(abs(shap_values1).mean(0), index=X.columns, columns=['importance'])\n",
    "importance_values = importance_values.sort_values('importance', ascending=False)\n",
    "\n",
    "# plot feature importance\n",
    "plt.barh(importance_values.index, importance_values['importance'])\n",
    "plt.xlabel('Average absolute SHAP value')\n",
    "plt.ylabel('Feature')\n",
    "plt.show()"
   ]
  },
  {
   "cell_type": "markdown",
   "id": "abdccaac",
   "metadata": {},
   "source": [
    "### Variable summary plot using shapley values"
   ]
  },
  {
   "cell_type": "code",
   "execution_count": 154,
   "id": "6e5c9759",
   "metadata": {
    "scrolled": false
   },
   "outputs": [
    {
     "data": {
      "image/png": "[encoded data removed]",
      "text/plain": [
       "<Figure size 576x453.6 with 2 Axes>"
      ]
     },
     "metadata": {
      "needs_background": "light"
     },
     "output_type": "display_data"
    }
   ],
   "source": [
    "# Beeswarm plot to see the relation of the features with the target using shap values\n",
    "shap.summary_plot(shap_values1,X)"
   ]
  },
  {
   "cell_type": "code",
   "execution_count": 155,
   "id": "4bb1e7fd",
   "metadata": {},
   "outputs": [],
   "source": [
    "#____________________________________________________________________________________________________________________________"
   ]
  },
  {
   "cell_type": "markdown",
   "id": "e02be2c5",
   "metadata": {},
   "source": [
    "* <b> Tree shap"
   ]
  },
  {
   "cell_type": "code",
   "execution_count": 156,
   "id": "01f9677b",
   "metadata": {},
   "outputs": [],
   "source": [
    "explainer2 = shap.TreeExplainer(model2)\n",
    "shap_values2 = explainer2.shap_values(X)"
   ]
  },
  {
   "cell_type": "code",
   "execution_count": 157,
   "id": "25249183",
   "metadata": {},
   "outputs": [
    {
     "data": {
      "text/plain": [
       "array([[105.70985708,   0.87980941,  -7.11967458, ...,  29.36141094,\n",
       "        -14.0923699 ,  -6.43342908],\n",
       "       [134.32810441,   4.4942722 ,   6.25138727, ..., -39.1159837 ,\n",
       "         10.94086139,  -7.75705992],\n",
       "       [154.95855426,  10.19061717,   7.82059599, ...,  45.83136072,\n",
       "        -10.23160098,  26.92975475],\n",
       "       ...,\n",
       "       [121.68026071,   4.31261928,   8.0956834 , ...,  65.24561238,\n",
       "        -11.78071138, -11.8269734 ],\n",
       "       [119.20081308,  -4.06986823,   4.34328392, ...,  69.88778191,\n",
       "        -12.73695462, -12.95811611],\n",
       "       [ 79.57865253,  -0.59949956,  -0.82401084, ...,  70.3141309 ,\n",
       "         -8.86600754, -31.35985916]])"
      ]
     },
     "execution_count": 157,
     "metadata": {},
     "output_type": "execute_result"
    }
   ],
   "source": [
    "shap_values2"
   ]
  },
  {
   "cell_type": "code",
   "execution_count": 158,
   "id": "b2942d47",
   "metadata": {},
   "outputs": [
    {
     "data": {
      "text/plain": [
       "array([734.37865169])"
      ]
     },
     "execution_count": 158,
     "metadata": {},
     "output_type": "execute_result"
    }
   ],
   "source": [
    "# Null model prediction (Avg_prediction)\n",
    "explainer2.expected_value"
   ]
  },
  {
   "cell_type": "code",
   "execution_count": 159,
   "id": "9b7a5602",
   "metadata": {},
   "outputs": [
    {
     "data": {
      "text/plain": [
       "(178, 12)"
      ]
     },
     "execution_count": 159,
     "metadata": {},
     "output_type": "execute_result"
    }
   ],
   "source": [
    "shap_values2.shape"
   ]
  },
  {
   "cell_type": "code",
   "execution_count": 160,
   "id": "52360bf9",
   "metadata": {},
   "outputs": [
    {
     "data": {
      "text/html": [
       "<div>\n",
       "<style scoped>\n",
       "    .dataframe tbody tr th:only-of-type {\n",
       "        vertical-align: middle;\n",
       "    }\n",
       "\n",
       "    .dataframe tbody tr th {\n",
       "        vertical-align: top;\n",
       "    }\n",
       "\n",
       "    .dataframe thead th {\n",
       "        text-align: right;\n",
       "    }\n",
       "</style>\n",
       "<table border=\"1\" class=\"dataframe\">\n",
       "  <thead>\n",
       "    <tr style=\"text-align: right;\">\n",
       "      <th></th>\n",
       "      <th>var1</th>\n",
       "      <th>var2</th>\n",
       "      <th>var3</th>\n",
       "      <th>var4</th>\n",
       "      <th>var5</th>\n",
       "      <th>var6</th>\n",
       "      <th>var7</th>\n",
       "      <th>var8</th>\n",
       "      <th>var9</th>\n",
       "      <th>var10</th>\n",
       "      <th>var11</th>\n",
       "      <th>var12</th>\n",
       "    </tr>\n",
       "  </thead>\n",
       "  <tbody>\n",
       "    <tr>\n",
       "      <th>0</th>\n",
       "      <td>105.709857</td>\n",
       "      <td>0.879809</td>\n",
       "      <td>-7.119675</td>\n",
       "      <td>5.657849</td>\n",
       "      <td>22.371670</td>\n",
       "      <td>14.919222</td>\n",
       "      <td>117.406656</td>\n",
       "      <td>0.983594</td>\n",
       "      <td>-4.954719</td>\n",
       "      <td>29.361411</td>\n",
       "      <td>-14.092370</td>\n",
       "      <td>-6.433429</td>\n",
       "    </tr>\n",
       "    <tr>\n",
       "      <th>1</th>\n",
       "      <td>134.328104</td>\n",
       "      <td>4.494272</td>\n",
       "      <td>6.251387</td>\n",
       "      <td>5.967149</td>\n",
       "      <td>34.546263</td>\n",
       "      <td>-1.732115</td>\n",
       "      <td>129.435534</td>\n",
       "      <td>2.017070</td>\n",
       "      <td>7.684330</td>\n",
       "      <td>-39.115984</td>\n",
       "      <td>10.940861</td>\n",
       "      <td>-7.757060</td>\n",
       "    </tr>\n",
       "    <tr>\n",
       "      <th>2</th>\n",
       "      <td>154.958554</td>\n",
       "      <td>10.190617</td>\n",
       "      <td>7.820596</td>\n",
       "      <td>6.914834</td>\n",
       "      <td>32.626164</td>\n",
       "      <td>-1.774969</td>\n",
       "      <td>172.452698</td>\n",
       "      <td>1.394941</td>\n",
       "      <td>3.689952</td>\n",
       "      <td>45.831361</td>\n",
       "      <td>-10.231601</td>\n",
       "      <td>26.929755</td>\n",
       "    </tr>\n",
       "    <tr>\n",
       "      <th>3</th>\n",
       "      <td>166.524024</td>\n",
       "      <td>2.364679</td>\n",
       "      <td>21.338395</td>\n",
       "      <td>8.439805</td>\n",
       "      <td>50.359536</td>\n",
       "      <td>-1.818063</td>\n",
       "      <td>206.959382</td>\n",
       "      <td>6.526256</td>\n",
       "      <td>1.275474</td>\n",
       "      <td>138.789260</td>\n",
       "      <td>-5.977293</td>\n",
       "      <td>-36.737682</td>\n",
       "    </tr>\n",
       "    <tr>\n",
       "      <th>4</th>\n",
       "      <td>119.697291</td>\n",
       "      <td>-0.757032</td>\n",
       "      <td>-11.109788</td>\n",
       "      <td>-4.236983</td>\n",
       "      <td>46.431840</td>\n",
       "      <td>-0.366365</td>\n",
       "      <td>109.444645</td>\n",
       "      <td>-1.164736</td>\n",
       "      <td>-2.749784</td>\n",
       "      <td>-133.470875</td>\n",
       "      <td>-11.502534</td>\n",
       "      <td>21.616782</td>\n",
       "    </tr>\n",
       "    <tr>\n",
       "      <th>...</th>\n",
       "      <td>...</td>\n",
       "      <td>...</td>\n",
       "      <td>...</td>\n",
       "      <td>...</td>\n",
       "      <td>...</td>\n",
       "      <td>...</td>\n",
       "      <td>...</td>\n",
       "      <td>...</td>\n",
       "      <td>...</td>\n",
       "      <td>...</td>\n",
       "      <td>...</td>\n",
       "      <td>...</td>\n",
       "    </tr>\n",
       "    <tr>\n",
       "      <th>173</th>\n",
       "      <td>76.977265</td>\n",
       "      <td>3.381795</td>\n",
       "      <td>5.559797</td>\n",
       "      <td>1.262372</td>\n",
       "      <td>15.609652</td>\n",
       "      <td>2.208583</td>\n",
       "      <td>-228.693596</td>\n",
       "      <td>-1.320037</td>\n",
       "      <td>2.082553</td>\n",
       "      <td>69.477750</td>\n",
       "      <td>-8.535087</td>\n",
       "      <td>-17.260154</td>\n",
       "    </tr>\n",
       "    <tr>\n",
       "      <th>174</th>\n",
       "      <td>98.831380</td>\n",
       "      <td>6.812905</td>\n",
       "      <td>5.185487</td>\n",
       "      <td>-2.834599</td>\n",
       "      <td>34.176934</td>\n",
       "      <td>-0.799982</td>\n",
       "      <td>-196.648993</td>\n",
       "      <td>-1.730009</td>\n",
       "      <td>4.691783</td>\n",
       "      <td>52.478307</td>\n",
       "      <td>-7.029661</td>\n",
       "      <td>-23.412205</td>\n",
       "    </tr>\n",
       "    <tr>\n",
       "      <th>175</th>\n",
       "      <td>121.680261</td>\n",
       "      <td>4.312619</td>\n",
       "      <td>8.095683</td>\n",
       "      <td>-0.045861</td>\n",
       "      <td>49.824562</td>\n",
       "      <td>9.596151</td>\n",
       "      <td>-159.573484</td>\n",
       "      <td>-1.677847</td>\n",
       "      <td>10.389668</td>\n",
       "      <td>65.245612</td>\n",
       "      <td>-11.780711</td>\n",
       "      <td>-11.826973</td>\n",
       "    </tr>\n",
       "    <tr>\n",
       "      <th>176</th>\n",
       "      <td>119.200813</td>\n",
       "      <td>-4.069868</td>\n",
       "      <td>4.343284</td>\n",
       "      <td>-0.150311</td>\n",
       "      <td>45.842000</td>\n",
       "      <td>7.567613</td>\n",
       "      <td>-192.753144</td>\n",
       "      <td>-1.163579</td>\n",
       "      <td>3.695163</td>\n",
       "      <td>69.887782</td>\n",
       "      <td>-12.736955</td>\n",
       "      <td>-12.958116</td>\n",
       "    </tr>\n",
       "    <tr>\n",
       "      <th>177</th>\n",
       "      <td>79.578653</td>\n",
       "      <td>-0.599500</td>\n",
       "      <td>-0.824011</td>\n",
       "      <td>-3.589628</td>\n",
       "      <td>16.097809</td>\n",
       "      <td>-2.240686</td>\n",
       "      <td>-230.203469</td>\n",
       "      <td>-0.010087</td>\n",
       "      <td>9.583852</td>\n",
       "      <td>70.314131</td>\n",
       "      <td>-8.866008</td>\n",
       "      <td>-31.359859</td>\n",
       "    </tr>\n",
       "  </tbody>\n",
       "</table>\n",
       "<p>178 rows × 12 columns</p>\n",
       "</div>"
      ],
      "text/plain": [
       "           var1       var2       var3      var4       var5       var6  \\\n",
       "0    105.709857   0.879809  -7.119675  5.657849  22.371670  14.919222   \n",
       "1    134.328104   4.494272   6.251387  5.967149  34.546263  -1.732115   \n",
       "2    154.958554  10.190617   7.820596  6.914834  32.626164  -1.774969   \n",
       "3    166.524024   2.364679  21.338395  8.439805  50.359536  -1.818063   \n",
       "4    119.697291  -0.757032 -11.109788 -4.236983  46.431840  -0.366365   \n",
       "..          ...        ...        ...       ...        ...        ...   \n",
       "173   76.977265   3.381795   5.559797  1.262372  15.609652   2.208583   \n",
       "174   98.831380   6.812905   5.185487 -2.834599  34.176934  -0.799982   \n",
       "175  121.680261   4.312619   8.095683 -0.045861  49.824562   9.596151   \n",
       "176  119.200813  -4.069868   4.343284 -0.150311  45.842000   7.567613   \n",
       "177   79.578653  -0.599500  -0.824011 -3.589628  16.097809  -2.240686   \n",
       "\n",
       "           var7      var8       var9       var10      var11      var12  \n",
       "0    117.406656  0.983594  -4.954719   29.361411 -14.092370  -6.433429  \n",
       "1    129.435534  2.017070   7.684330  -39.115984  10.940861  -7.757060  \n",
       "2    172.452698  1.394941   3.689952   45.831361 -10.231601  26.929755  \n",
       "3    206.959382  6.526256   1.275474  138.789260  -5.977293 -36.737682  \n",
       "4    109.444645 -1.164736  -2.749784 -133.470875 -11.502534  21.616782  \n",
       "..          ...       ...        ...         ...        ...        ...  \n",
       "173 -228.693596 -1.320037   2.082553   69.477750  -8.535087 -17.260154  \n",
       "174 -196.648993 -1.730009   4.691783   52.478307  -7.029661 -23.412205  \n",
       "175 -159.573484 -1.677847  10.389668   65.245612 -11.780711 -11.826973  \n",
       "176 -192.753144 -1.163579   3.695163   69.887782 -12.736955 -12.958116  \n",
       "177 -230.203469 -0.010087   9.583852   70.314131  -8.866008 -31.359859  \n",
       "\n",
       "[178 rows x 12 columns]"
      ]
     },
     "execution_count": 160,
     "metadata": {},
     "output_type": "execute_result"
    }
   ],
   "source": [
    "# Shapley values in Dataframe\n",
    "shap_frame2 = pd.DataFrame(shap_values2,columns=X.columns)\n",
    "shap_frame2"
   ]
  },
  {
   "cell_type": "code",
   "execution_count": 161,
   "id": "45df7357",
   "metadata": {},
   "outputs": [
    {
     "data": {
      "text/plain": [
       "999.0685286935286"
      ]
     },
     "execution_count": 161,
     "metadata": {},
     "output_type": "execute_result"
    }
   ],
   "source": [
    "# prediction\n",
    "y_pred = model2.predict(X)\n",
    "y_pred[0]"
   ]
  },
  {
   "cell_type": "code",
   "execution_count": 162,
   "id": "058bdb9e",
   "metadata": {},
   "outputs": [
    {
     "data": {
      "text/plain": [
       "array([999.06852869])"
      ]
     },
     "execution_count": 162,
     "metadata": {},
     "output_type": "execute_result"
    }
   ],
   "source": [
    "# Explanatory model (additive)\n",
    "explainer2.expected_value + np.sum(shap_frame2.iloc[0,:])"
   ]
  },
  {
   "cell_type": "code",
   "execution_count": 163,
   "id": "c3be9d42",
   "metadata": {},
   "outputs": [
    {
     "data": {
      "text/html": [
       "<div>\n",
       "<style scoped>\n",
       "    .dataframe tbody tr th:only-of-type {\n",
       "        vertical-align: middle;\n",
       "    }\n",
       "\n",
       "    .dataframe tbody tr th {\n",
       "        vertical-align: top;\n",
       "    }\n",
       "\n",
       "    .dataframe thead th {\n",
       "        text-align: right;\n",
       "    }\n",
       "</style>\n",
       "<table border=\"1\" class=\"dataframe\">\n",
       "  <thead>\n",
       "    <tr style=\"text-align: right;\">\n",
       "      <th></th>\n",
       "      <th>var1</th>\n",
       "      <th>var2</th>\n",
       "      <th>var3</th>\n",
       "      <th>var4</th>\n",
       "      <th>var5</th>\n",
       "      <th>var6</th>\n",
       "      <th>var7</th>\n",
       "      <th>var8</th>\n",
       "      <th>var9</th>\n",
       "      <th>var10</th>\n",
       "      <th>var11</th>\n",
       "      <th>var12</th>\n",
       "      <th>Model_pred</th>\n",
       "      <th>T_Shap_pred</th>\n",
       "    </tr>\n",
       "  </thead>\n",
       "  <tbody>\n",
       "    <tr>\n",
       "      <th>0</th>\n",
       "      <td>105.709857</td>\n",
       "      <td>0.879809</td>\n",
       "      <td>-7.119675</td>\n",
       "      <td>5.657849</td>\n",
       "      <td>22.37167</td>\n",
       "      <td>14.919222</td>\n",
       "      <td>117.406656</td>\n",
       "      <td>0.983594</td>\n",
       "      <td>-4.954719</td>\n",
       "      <td>29.361411</td>\n",
       "      <td>-14.09237</td>\n",
       "      <td>-6.433429</td>\n",
       "      <td>999.068529</td>\n",
       "      <td>999.068529</td>\n",
       "    </tr>\n",
       "  </tbody>\n",
       "</table>\n",
       "</div>"
      ],
      "text/plain": [
       "         var1      var2      var3      var4      var5       var6        var7  \\\n",
       "0  105.709857  0.879809 -7.119675  5.657849  22.37167  14.919222  117.406656   \n",
       "\n",
       "       var8      var9      var10     var11     var12  Model_pred  T_Shap_pred  \n",
       "0  0.983594 -4.954719  29.361411 -14.09237 -6.433429  999.068529   999.068529  "
      ]
     },
     "execution_count": 163,
     "metadata": {},
     "output_type": "execute_result"
    }
   ],
   "source": [
    "# shapley value for 1st observation \n",
    "obs = pd.DataFrame(shap_frame2.iloc[0,:]).T\n",
    "obs[\"Model_pred\"] = y_pred[0]\n",
    "obs[\"T_Shap_pred\"] = explainer2.expected_value + np.sum(shap_frame2.iloc[0,:])\n",
    "\n",
    "obs\n",
    "#final prediction = the average prediction + the shap values of all features."
   ]
  },
  {
   "cell_type": "code",
   "execution_count": 164,
   "id": "3611f299",
   "metadata": {},
   "outputs": [
    {
     "data": {
      "text/plain": [
       "array([734.37865169])"
      ]
     },
     "execution_count": 164,
     "metadata": {},
     "output_type": "execute_result"
    }
   ],
   "source": [
    "explainer.expected_value"
   ]
  },
  {
   "cell_type": "code",
   "execution_count": 170,
   "id": "041c16af",
   "metadata": {},
   "outputs": [
    {
     "data": {
      "text/plain": [
       "734.3786516853932"
      ]
     },
     "execution_count": 170,
     "metadata": {},
     "output_type": "execute_result"
    }
   ],
   "source": [
    "explainer2.expected_value[0]"
   ]
  },
  {
   "cell_type": "code",
   "execution_count": 167,
   "id": "54882456",
   "metadata": {},
   "outputs": [
    {
     "data": {
      "text/plain": [
       "array([105.70985708,   0.87980941,  -7.11967458,   5.65784936,\n",
       "        22.37166968,  14.91922234, 117.40665626,   0.98359416,\n",
       "        -4.95471867,  29.36141094, -14.0923699 ,  -6.43342908])"
      ]
     },
     "execution_count": 167,
     "metadata": {},
     "output_type": "execute_result"
    }
   ],
   "source": [
    "shap_values2[0]"
   ]
  },
  {
   "cell_type": "code",
   "execution_count": 168,
   "id": "5baddf75",
   "metadata": {},
   "outputs": [
    {
     "data": {
      "text/plain": [
       "Index(['var1', 'var2', 'var3', 'var4', 'var5', 'var6', 'var7', 'var8', 'var9',\n",
       "       'var10', 'var11', 'var12'],\n",
       "      dtype='object')"
      ]
     },
     "execution_count": 168,
     "metadata": {},
     "output_type": "execute_result"
    }
   ],
   "source": [
    "X.columns"
   ]
  },
  {
   "cell_type": "code",
   "execution_count": 169,
   "id": "e8a5967c",
   "metadata": {},
   "outputs": [
    {
     "data": {
      "text/plain": [
       "<memory at 0x0000020EC7C91940>"
      ]
     },
     "execution_count": 169,
     "metadata": {},
     "output_type": "execute_result"
    }
   ],
   "source": [
    "shap_values2[0].data"
   ]
  },
  {
   "cell_type": "code",
   "execution_count": 171,
   "id": "51c8621f",
   "metadata": {},
   "outputs": [
    {
     "data": {
      "image/png": "[encoded data removed]",
      "text/plain": [
       "<Figure size 576x468 with 3 Axes>"
      ]
     },
     "metadata": {},
     "output_type": "display_data"
    }
   ],
   "source": [
    "# WATERFALL plot \n",
    "\n",
    "shap_object2 = shap.Explanation(base_values = explainer2.expected_value[0],\n",
    "                                values = shap_values2[0],\n",
    "                                feature_names = X.columns,\n",
    "                                data = shap_values2[0].data)\n",
    "\n",
    "shap.plots.waterfall(shap_object2)"
   ]
  },
  {
   "cell_type": "code",
   "execution_count": 172,
   "id": "00728d3d",
   "metadata": {},
   "outputs": [
    {
     "data": {
      "image/png": "[encoded data removed]",
      "text/plain": [
       "<Figure size 432x288 with 1 Axes>"
      ]
     },
     "metadata": {
      "needs_background": "light"
     },
     "output_type": "display_data"
    }
   ],
   "source": [
    "# calculate feature importance\n",
    "importance_values = pd.DataFrame(abs(shap_values2).mean(0), index=X.columns, columns=['importance'])\n",
    "importance_values = importance_values.sort_values('importance', ascending=False)\n",
    "\n",
    "# plot feature importance\n",
    "plt.barh(importance_values.index, importance_values['importance'])\n",
    "plt.xlabel('Average absolute SHAP value')\n",
    "plt.ylabel('Feature')\n",
    "plt.show()"
   ]
  },
  {
   "cell_type": "code",
   "execution_count": 173,
   "id": "78b9c19c",
   "metadata": {},
   "outputs": [
    {
     "data": {
      "image/png": "[encoded data removed]",
      "text/plain": [
       "<Figure size 576x453.6 with 2 Axes>"
      ]
     },
     "metadata": {
      "needs_background": "light"
     },
     "output_type": "display_data"
    }
   ],
   "source": [
    "# Beeswarm plot to see the relation of the features with the target using shap values\n",
    "shap.summary_plot(shap_values2,X)"
   ]
  },
  {
   "cell_type": "code",
   "execution_count": null,
   "id": "13c20431",
   "metadata": {},
   "outputs": [],
   "source": []
  }
 ],
 "metadata": {
  "kernelspec": {
   "display_name": "Python 3 (ipykernel)",
   "language": "python",
   "name": "python3"
  },
  "language_info": {
   "codemirror_mode": {
    "name": "ipython",
    "version": 3
   },
   "file_extension": ".py",
   "mimetype": "text/x-python",
   "name": "python",
   "nbconvert_exporter": "python",
   "pygments_lexer": "ipython3",
   "version": "3.9.12"
  }
 },
 "nbformat": 4,
 "nbformat_minor": 5
}
